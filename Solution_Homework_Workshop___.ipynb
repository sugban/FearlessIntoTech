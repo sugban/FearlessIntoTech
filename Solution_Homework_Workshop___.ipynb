{
  "nbformat": 4,
  "nbformat_minor": 0,
  "metadata": {
    "colab": {
      "name": "Solution Homework Workshop ||",
      "provenance": [],
      "collapsed_sections": []
    },
    "kernelspec": {
      "name": "python3",
      "display_name": "Python 3"
    },
    "language_info": {
      "name": "python"
    }
  },
  "cells": [
    {
      "cell_type": "markdown",
      "metadata": {
        "id": "retMeqOHOr1Q"
      },
      "source": [
        "1. Print your name and date "
      ]
    },
    {
      "cell_type": "code",
      "metadata": {
        "id": "2LqFcBMeeT6Q",
        "colab": {
          "base_uri": "https://localhost:8080/"
        },
        "outputId": "1bf088c7-8b8e-44eb-b7ef-19c60a0a3401"
      },
      "source": [
        "name = 'Fearless Into Tech'\n",
        "date = '15-05-2022'\n",
        "\n",
        "print('Name: {} \\nDate: {}'.format(name,date))"
      ],
      "execution_count": null,
      "outputs": [
        {
          "output_type": "stream",
          "name": "stdout",
          "text": [
            "Name: Fearless Into Tech \n",
            "Date: 15-05-2022\n"
          ]
        }
      ]
    },
    {
      "cell_type": "markdown",
      "metadata": {
        "id": "WVrU6d9AOysg"
      },
      "source": [
        "2. Create two variables having string value and numeric value.\n",
        "Add them together in third variable and print and check the result, what happens."
      ]
    },
    {
      "cell_type": "code",
      "metadata": {
        "id": "562lLuJWWaXb",
        "colab": {
          "base_uri": "https://localhost:8080/",
          "height": 217
        },
        "outputId": "b28aba5c-92dd-4c99-a3d9-182ac96a7137"
      },
      "source": [
        "st = 'Sunday'\n",
        "num = 5\n",
        "result = st + num\n",
        "print(result)"
      ],
      "execution_count": null,
      "outputs": [
        {
          "output_type": "error",
          "ename": "TypeError",
          "evalue": "ignored",
          "traceback": [
            "\u001b[0;31m---------------------------------------------------------------------------\u001b[0m",
            "\u001b[0;31mTypeError\u001b[0m                                 Traceback (most recent call last)",
            "\u001b[0;32m<ipython-input-32-d7d70667659b>\u001b[0m in \u001b[0;36m<module>\u001b[0;34m()\u001b[0m\n\u001b[1;32m      1\u001b[0m \u001b[0mst\u001b[0m \u001b[0;34m=\u001b[0m \u001b[0;34m'Sunday'\u001b[0m\u001b[0;34m\u001b[0m\u001b[0;34m\u001b[0m\u001b[0m\n\u001b[1;32m      2\u001b[0m \u001b[0mnum\u001b[0m \u001b[0;34m=\u001b[0m \u001b[0;36m5\u001b[0m\u001b[0;34m\u001b[0m\u001b[0;34m\u001b[0m\u001b[0m\n\u001b[0;32m----> 3\u001b[0;31m \u001b[0mresult\u001b[0m \u001b[0;34m=\u001b[0m \u001b[0mst\u001b[0m \u001b[0;34m+\u001b[0m \u001b[0mnum\u001b[0m\u001b[0;34m\u001b[0m\u001b[0;34m\u001b[0m\u001b[0m\n\u001b[0m\u001b[1;32m      4\u001b[0m \u001b[0mprint\u001b[0m\u001b[0;34m(\u001b[0m\u001b[0mresult\u001b[0m\u001b[0;34m)\u001b[0m\u001b[0;34m\u001b[0m\u001b[0;34m\u001b[0m\u001b[0m\n",
            "\u001b[0;31mTypeError\u001b[0m: can only concatenate str (not \"int\") to str"
          ]
        }
      ]
    },
    {
      "cell_type": "markdown",
      "metadata": {
        "id": "T9XOofhCO3yQ"
      },
      "source": [
        " 3. Create two variables having integer value and float value. Multiply them together in third variable and print and check the result, if it's bringing the right output"
      ]
    },
    {
      "cell_type": "code",
      "metadata": {
        "id": "WDUsLTjxW7ub",
        "colab": {
          "base_uri": "https://localhost:8080/"
        },
        "outputId": "5a6b3cea-fdf1-4bff-b1d1-f95ae2bff0ad"
      },
      "source": [
        "num1 = 24\n",
        "num2 = 12.02\n",
        "\n",
        "mul = num1 * num2\n",
        "print(mul)"
      ],
      "execution_count": null,
      "outputs": [
        {
          "output_type": "stream",
          "name": "stdout",
          "text": [
            "288.48\n"
          ]
        }
      ]
    },
    {
      "cell_type": "markdown",
      "metadata": {
        "id": "lz1f9GZhO_x4"
      },
      "source": [
        "4. Define a string variable and try to slice them and print the output with comment expalining your actions."
      ]
    },
    {
      "cell_type": "code",
      "metadata": {
        "id": "lD-8th7SXMOq",
        "colab": {
          "base_uri": "https://localhost:8080/"
        },
        "outputId": "6e7c951a-1b9f-45bc-f9a9-5bb62d2bab30"
      },
      "source": [
        "text = 'Fearless Into Tech'\n",
        "print(text[2:6])      # slicing from 3rd value to 6th"
      ],
      "execution_count": null,
      "outputs": [
        {
          "output_type": "stream",
          "name": "stdout",
          "text": [
            "arle\n"
          ]
        }
      ]
    },
    {
      "cell_type": "markdown",
      "metadata": {
        "id": "Ppfime1kPGgX"
      },
      "source": [
        "5. Define a list and add two lists together to check, if its adding or not."
      ]
    },
    {
      "cell_type": "code",
      "metadata": {
        "id": "7uXr2R8IXXOy",
        "colab": {
          "base_uri": "https://localhost:8080/"
        },
        "outputId": "689b9825-d80a-42d2-b401-9021fc08e77a"
      },
      "source": [
        "lst1 = [2,4,6,8,10]\n",
        "lst2 = [10,20,30,40,50]\n",
        "\n",
        "print(lst1+lst2)"
      ],
      "execution_count": null,
      "outputs": [
        {
          "output_type": "stream",
          "name": "stdout",
          "text": [
            "[2, 4, 6, 8, 10, 10, 20, 30, 40, 50]\n"
          ]
        }
      ]
    },
    {
      "cell_type": "markdown",
      "metadata": {
        "id": "849YeOcIPIen"
      },
      "source": [
        "6. Define a dictionary with key and values, where at least one value is a list or tuple. Print the dictionary."
      ]
    },
    {
      "cell_type": "code",
      "metadata": {
        "id": "4NZ_p7cqXhUq",
        "colab": {
          "base_uri": "https://localhost:8080/"
        },
        "outputId": "bfca67fc-2ba7-428c-e6df-a9dcecb962ef"
      },
      "source": [
        "pair = {'name' : 'Sugandh', 'subject' : 'Python', 'grades' : [4,7,10,2,12]}\n",
        "print(pair)"
      ],
      "execution_count": null,
      "outputs": [
        {
          "output_type": "stream",
          "name": "stdout",
          "text": [
            "{'name': 'Sugandh', 'subject': 'Python', 'grades': [4, 7, 10, 2, 12]}\n"
          ]
        }
      ]
    },
    {
      "cell_type": "markdown",
      "metadata": {
        "id": "DBqn7m6CPL63"
      },
      "source": [
        "7. Define tuple and check if it can be double up with * and print it."
      ]
    },
    {
      "cell_type": "code",
      "metadata": {
        "id": "bgo0sGAvXyTy",
        "colab": {
          "base_uri": "https://localhost:8080/"
        },
        "outputId": "3d614445-657b-4092-9368-980e2ba0383a"
      },
      "source": [
        "tup = (10,20,30,40,50)\n",
        "print(tup*2)"
      ],
      "execution_count": null,
      "outputs": [
        {
          "output_type": "stream",
          "name": "stdout",
          "text": [
            "(10, 20, 30, 40, 50, 10, 20, 30, 40, 50)\n"
          ]
        }
      ]
    },
    {
      "cell_type": "code",
      "source": [
        "lst=[]\n",
        "for i in tup:\n",
        "    lst.append(i*2)\n",
        "print(lst)"
      ],
      "metadata": {
        "colab": {
          "base_uri": "https://localhost:8080/"
        },
        "id": "VTxvZcL8Ulmg",
        "outputId": "5e23c9a5-25c3-4cd4-d97f-77524882c4cf"
      },
      "execution_count": null,
      "outputs": [
        {
          "output_type": "stream",
          "name": "stdout",
          "text": [
            "[20, 40, 60, 80, 100]\n"
          ]
        }
      ]
    },
    {
      "cell_type": "markdown",
      "metadata": {
        "id": "M7FFuah3POTU"
      },
      "source": [
        "8. What is output for − b = [11,13,15,17,19,21] print(b[:2])"
      ]
    },
    {
      "cell_type": "code",
      "metadata": {
        "id": "PynWC_hwegO_",
        "colab": {
          "base_uri": "https://localhost:8080/"
        },
        "outputId": "47fdd6f4-d1cf-4dd9-8202-b4de44c622e0"
      },
      "source": [
        "b = [11,13,15,17,19,21] \n",
        "print(b[:2])"
      ],
      "execution_count": null,
      "outputs": [
        {
          "output_type": "stream",
          "name": "stdout",
          "text": [
            "[11, 13]\n"
          ]
        }
      ]
    },
    {
      "cell_type": "markdown",
      "metadata": {
        "id": "z-lhM4BaPTau"
      },
      "source": [
        "9. What will you get in the output - dict = {'F_Name': 'Zara', 'Age': 7, 'L_Name': 'Manni'}  print(dict['L-Name'])"
      ]
    },
    {
      "cell_type": "code",
      "metadata": {
        "id": "3hMAbx5zfxB4",
        "colab": {
          "base_uri": "https://localhost:8080/"
        },
        "outputId": "68be212b-aa54-4c45-bcd9-a074561c9793"
      },
      "source": [
        "dict = {'F_Name': 'Zara', 'Age': 7, 'L_Name': 'Manni'} \n",
        "print(dict['L_Name'])"
      ],
      "execution_count": null,
      "outputs": [
        {
          "output_type": "stream",
          "name": "stdout",
          "text": [
            "Manni\n"
          ]
        }
      ]
    },
    {
      "cell_type": "markdown",
      "metadata": {
        "id": "6M7KPdHDPV3g"
      },
      "source": [
        "10. What will you get, when - tup1 = ('physics', 'chemistry', 1997, 2000)  tup1[0]='Art'"
      ]
    },
    {
      "cell_type": "code",
      "metadata": {
        "id": "Hd9IPktof0xW",
        "colab": {
          "base_uri": "https://localhost:8080/",
          "height": 182
        },
        "outputId": "d47e3099-6bfa-4d99-e7d6-b54699111f81"
      },
      "source": [
        " tup1 = ('physics', 'chemistry', 1997, 2000) \n",
        " tup1[0] ='Art'"
      ],
      "execution_count": null,
      "outputs": [
        {
          "output_type": "error",
          "ename": "TypeError",
          "evalue": "ignored",
          "traceback": [
            "\u001b[0;31m---------------------------------------------------------------------------\u001b[0m",
            "\u001b[0;31mTypeError\u001b[0m                                 Traceback (most recent call last)",
            "\u001b[0;32m<ipython-input-11-1de8cf066972>\u001b[0m in \u001b[0;36m<module>\u001b[0;34m()\u001b[0m\n\u001b[1;32m      1\u001b[0m \u001b[0mtup1\u001b[0m \u001b[0;34m=\u001b[0m \u001b[0;34m(\u001b[0m\u001b[0;34m'physics'\u001b[0m\u001b[0;34m,\u001b[0m \u001b[0;34m'chemistry'\u001b[0m\u001b[0;34m,\u001b[0m \u001b[0;36m1997\u001b[0m\u001b[0;34m,\u001b[0m \u001b[0;36m2000\u001b[0m\u001b[0;34m)\u001b[0m\u001b[0;34m\u001b[0m\u001b[0;34m\u001b[0m\u001b[0m\n\u001b[0;32m----> 2\u001b[0;31m \u001b[0mtup1\u001b[0m\u001b[0;34m[\u001b[0m\u001b[0;36m0\u001b[0m\u001b[0;34m]\u001b[0m\u001b[0;34m=\u001b[0m\u001b[0;34m'Art'\u001b[0m\u001b[0;34m\u001b[0m\u001b[0;34m\u001b[0m\u001b[0m\n\u001b[0m",
            "\u001b[0;31mTypeError\u001b[0m: 'tuple' object does not support item assignment"
          ]
        }
      ]
    },
    {
      "cell_type": "markdown",
      "source": [
        "**What will be the output of the following code:**\n",
        "<br> \n",
        "\n",
        "---\n",
        "\n",
        "\n",
        "11. for i in \"Myblog\":<br>\n",
        "    print (i, '?')"
      ],
      "metadata": {
        "id": "x4fl_4DKUx04"
      }
    },
    {
      "cell_type": "code",
      "source": [
        "for i in \"Myblog\":\n",
        "  print(i, '?')"
      ],
      "metadata": {
        "id": "ATodo4OCUzEg",
        "colab": {
          "base_uri": "https://localhost:8080/"
        },
        "outputId": "f64863bf-cfe4-4c1f-fca4-98b30fe1e687"
      },
      "execution_count": null,
      "outputs": [
        {
          "output_type": "stream",
          "name": "stdout",
          "text": [
            "M ?\n",
            "y ?\n",
            "b ?\n",
            "l ?\n",
            "o ?\n",
            "g ?\n"
          ]
        }
      ]
    },
    {
      "cell_type": "markdown",
      "source": [
        "12.Check what happens\n",
        "\n",
        "\n",
        "---\n",
        "\n",
        "x=5 <br>\n",
        "while(x<15):<br>\n",
        "  print(x**2)<br>\n",
        "  x+=3"
      ],
      "metadata": {
        "id": "MBaVjPjsU0F-"
      }
    },
    {
      "cell_type": "code",
      "source": [
        "x=5\n",
        "while(x<15):\n",
        "  print(x**2)\n",
        "  x+=3"
      ],
      "metadata": {
        "id": "SBDZVEZ1U8rp",
        "colab": {
          "base_uri": "https://localhost:8080/"
        },
        "outputId": "0f1d8241-b687-45c0-a7b0-8dbbaad3d25d"
      },
      "execution_count": null,
      "outputs": [
        {
          "output_type": "stream",
          "name": "stdout",
          "text": [
            "25\n",
            "64\n",
            "121\n",
            "196\n"
          ]
        }
      ]
    },
    {
      "cell_type": "markdown",
      "source": [
        "13.Write program to print the following pattern.\n",
        "\n",
        "---\n",
        "\n",
        "\n",
        "\n",
        "1\n",
        "\n",
        "1 2\n",
        "\n",
        "1 2 3\n",
        "\n",
        "1 2 3 4"
      ],
      "metadata": {
        "id": "BqiBKP1EVRZF"
      }
    },
    {
      "cell_type": "code",
      "source": [
        "for i in range(1,6):\n",
        "  for j in range (1,i):\n",
        "    print(j, end=' ')\n",
        "  print('\\n')"
      ],
      "metadata": {
        "id": "ljtIalqkVarp",
        "colab": {
          "base_uri": "https://localhost:8080/"
        },
        "outputId": "f60f99c6-0d3a-490f-b1f0-a8e0bc633ce5"
      },
      "execution_count": 1,
      "outputs": [
        {
          "output_type": "stream",
          "name": "stdout",
          "text": [
            "\n",
            "\n",
            "1 \n",
            "\n",
            "1 2 \n",
            "\n",
            "1 2 3 \n",
            "\n",
            "1 2 3 4 \n",
            "\n"
          ]
        }
      ]
    },
    {
      "cell_type": "markdown",
      "source": [
        "Example of a user defined function:"
      ],
      "metadata": {
        "id": "yc83qI5mhf8L"
      }
    },
    {
      "cell_type": "code",
      "source": [
        "def absolute_value(num):\n",
        "    \"\"\"This function returns the absolute\n",
        "    value of the entered number\"\"\"\n",
        "\n",
        "    if num >= 0:\n",
        "        return (num)\n",
        "    else:\n",
        "        return (-num)\n",
        "\n",
        "\n",
        "print(absolute_value(2))\n",
        "\n",
        "print(absolute_value(-4))"
      ],
      "metadata": {
        "id": "fpVdjBbQhdq0"
      },
      "execution_count": null,
      "outputs": []
    },
    {
      "cell_type": "markdown",
      "source": [
        "14. Create a function, that returns the statement, if thr value is even or odd, while passing the number as argument in calling function."
      ],
      "metadata": {
        "id": "IE4p7UyXVfW2"
      }
    },
    {
      "cell_type": "code",
      "metadata": {
        "id": "FWbLALusYeXR",
        "colab": {
          "base_uri": "https://localhost:8080/"
        },
        "outputId": "f0d87210-6d0f-441f-aee2-be8b048fcc79"
      },
      "source": [
        "def evenOdd(num):\n",
        "  if num % 2 == 0:\n",
        "    return ('The number is even.')\n",
        "  else:\n",
        "    return('The number is odd.')\n",
        "\n",
        "\n",
        "print(evenOdd(2))\n",
        "print(evenOdd(5))"
      ],
      "execution_count": 2,
      "outputs": [
        {
          "output_type": "stream",
          "name": "stdout",
          "text": [
            "The number is even.\n",
            "The number is odd.\n"
          ]
        }
      ]
    },
    {
      "cell_type": "code",
      "source": [
        ""
      ],
      "metadata": {
        "id": "6PgV-yVPLQm0"
      },
      "execution_count": null,
      "outputs": []
    }
  ]
}