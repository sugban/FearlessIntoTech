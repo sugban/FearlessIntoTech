{
 "cells": [
  {
   "cell_type": "code",
   "execution_count": 1,
   "id": "22c6bc72",
   "metadata": {},
   "outputs": [],
   "source": [
    "a = 200\n",
    "b = 33"
   ]
  },
  {
   "cell_type": "code",
   "execution_count": 2,
   "id": "063891ea",
   "metadata": {},
   "outputs": [],
   "source": [
    "if b > a:\n",
    "    print(\"b is greater than a\")"
   ]
  },
  {
   "cell_type": "code",
   "execution_count": 3,
   "id": "740737b7",
   "metadata": {},
   "outputs": [
    {
     "name": "stdout",
     "output_type": "stream",
     "text": [
      "a is greater than b\n"
     ]
    }
   ],
   "source": [
    "if b > a:\n",
    "    print(\"b is greater than a\")\n",
    "else:\n",
    "    print(\"a is greater than b\")"
   ]
  },
  {
   "cell_type": "code",
   "execution_count": 4,
   "id": "cee60370",
   "metadata": {},
   "outputs": [
    {
     "name": "stdout",
     "output_type": "stream",
     "text": [
      "a is greater than b\n"
     ]
    }
   ],
   "source": [
    "if b > a:\n",
    "    print(\"b is greater than a\")\n",
    "elif a == b:\n",
    "    print(\"a and b are equal\")\n",
    "else:\n",
    "    print(\"a is greater than b\")"
   ]
  },
  {
   "cell_type": "code",
   "execution_count": 9,
   "id": "1ddb6e95",
   "metadata": {},
   "outputs": [],
   "source": [
    "def result(n1, n2):\n",
    "    print('Your sum is : ',n1 + n2)"
   ]
  },
  {
   "cell_type": "code",
   "execution_count": 10,
   "id": "9de798bf",
   "metadata": {},
   "outputs": [
    {
     "name": "stdout",
     "output_type": "stream",
     "text": [
      "Please enter first number: 12\n",
      "Please enter second number: 11\n",
      "Your sum is :  23\n"
     ]
    }
   ],
   "source": [
    "# Challenge\n",
    "\n",
    "num1 = int(input('Please enter first number: '))\n",
    "num2 = int(input('Please enter second number: '))\n",
    "\n",
    "result(num1,num2)"
   ]
  },
  {
   "cell_type": "code",
   "execution_count": null,
   "id": "4936f764",
   "metadata": {},
   "outputs": [],
   "source": []
  }
 ],
 "metadata": {
  "kernelspec": {
   "display_name": "Python 3 (ipykernel)",
   "language": "python",
   "name": "python3"
  },
  "language_info": {
   "codemirror_mode": {
    "name": "ipython",
    "version": 3
   },
   "file_extension": ".py",
   "mimetype": "text/x-python",
   "name": "python",
   "nbconvert_exporter": "python",
   "pygments_lexer": "ipython3",
   "version": "3.9.7"
  }
 },
 "nbformat": 4,
 "nbformat_minor": 5
}
