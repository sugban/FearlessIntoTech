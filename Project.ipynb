{
 "cells": [
  {
   "cell_type": "code",
   "execution_count": 1,
   "id": "084b10fc",
   "metadata": {},
   "outputs": [],
   "source": [
    "# Project\n",
    "# creating calculator function to do the operations between two values\n",
    "\n",
    "def calc(n1, n2, op):\n",
    "    if op == '+' or op == 'add':    #adding values \n",
    "        print(n1 + n2)\n",
    "    elif op == '-' or op == 'minus':   # substracting values\n",
    "        print(n1 - n2)\n",
    "    elif op == '*' or op == 'multiply':    # multiplying values\n",
    "        print(n1 * n2)\n",
    "    elif op == '/' or op == 'divide':     # dividing values\n",
    "        print(n1 / n2)\n",
    "    elif op == '%' or op == 'modulus':    # using modulus to find remainder\n",
    "        print(n1 % n2)\n",
    "    elif op == '**' or op == 'power':   # finding power of the value\n",
    "        print(n1 ** n2)\n",
    "    else:\n",
    "        print('Wrong operator or function!')"
   ]
  },
  {
   "cell_type": "code",
   "execution_count": null,
   "id": "daab3599",
   "metadata": {},
   "outputs": [],
   "source": [
    "# asking user to give two numbers and operator or function performed on these numbers\n",
    "\n",
    "num1 = int(input('Please enter first number: '))\n",
    "num2 = int(input('Please enter second number: '))\n",
    "op = input('Please enter an operator or function: ')\n",
    "\n",
    "calc(num1,num2,op)    # calling function by passing numbers and operator as parameters "
   ]
  },
  {
   "cell_type": "code",
   "execution_count": null,
   "id": "caf31971",
   "metadata": {},
   "outputs": [],
   "source": [
    "# to generate QR code\n",
    "\n",
    "import qrcode"
   ]
  },
  {
   "cell_type": "code",
   "execution_count": null,
   "id": "b2a22ff3",
   "metadata": {},
   "outputs": [],
   "source": [
    "path = ''\n",
    "code = qrcode.make(path)"
   ]
  },
  {
   "cell_type": "code",
   "execution_count": null,
   "id": "57996135",
   "metadata": {},
   "outputs": [],
   "source": [
    "code.save('Project.png')"
   ]
  },
  {
   "cell_type": "code",
   "execution_count": null,
   "id": "57c5d0c9",
   "metadata": {
    "collapsed": true
   },
   "outputs": [],
   "source": [
    "code"
   ]
  }
 ],
 "metadata": {
  "kernelspec": {
   "display_name": "Python 3 (ipykernel)",
   "language": "python",
   "name": "python3"
  },
  "language_info": {
   "codemirror_mode": {
    "name": "ipython",
    "version": 3
   },
   "file_extension": ".py",
   "mimetype": "text/x-python",
   "name": "python",
   "nbconvert_exporter": "python",
   "pygments_lexer": "ipython3",
   "version": "3.9.7"
  }
 },
 "nbformat": 4,
 "nbformat_minor": 5
}
